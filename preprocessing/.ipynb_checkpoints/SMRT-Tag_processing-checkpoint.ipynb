{
 "cells": [
  {
   "cell_type": "markdown",
   "id": "72cc7085",
   "metadata": {},
   "source": [
    "## SMRT-Tag preprocessing\n",
    "This notebook downloads data, reference files, and preprocesses files"
   ]
  },
  {
   "cell_type": "code",
   "execution_count": 4,
   "id": "fc1a3e19",
   "metadata": {},
   "outputs": [],
   "source": [
    "## this notebook assumes the correct conda environment has already been set up as recommended in the README"
   ]
  },
  {
   "cell_type": "code",
   "execution_count": 8,
   "id": "407af1f3",
   "metadata": {},
   "outputs": [],
   "source": [
    "## Specify the top-level directory \n",
    "TOP_DIR='/Users/snanda/storage/lab/projects/SMRT-Tag/'"
   ]
  },
  {
   "cell_type": "code",
   "execution_count": 9,
   "id": "eb87804c",
   "metadata": {},
   "outputs": [
    {
     "name": "stdout",
     "output_type": "stream",
     "text": [
      "/Users/snanda/storage/lab/projects/SMRT-Tag/\r\n"
     ]
    }
   ],
   "source": [
    "! echo $TOP_DIR"
   ]
  },
  {
   "cell_type": "markdown",
   "id": "dda475fd",
   "metadata": {},
   "source": [
    "#### 1. Download reference datasets"
   ]
  },
  {
   "cell_type": "code",
   "execution_count": null,
   "id": "a3a7283b",
   "metadata": {},
   "outputs": [],
   "source": [
    "## Obtain reference files from various locations\n",
    "\n",
    "\n",
    "## Variant Calling\n",
    "! wget ftp://ftp-trace.ncbi.nlm.nih.gov/giab/ftp/release/references/GRCh37/hs37d5.fa.gz \\\n",
    "    -O \n",
    "! wget ftp://ftp-trace.ncbi.nlm.nih.gov/giab/ftp/release/AshkenazimTrio/HG002_NA24385_son/NISTv4.2.1/GRCh37/ \\\n",
    "    -O \n",
    "! wget ftp://ftp-trace.ncbi.nlm.nih.gov/giab/ftp/release/AshkenazimTrio/HG003_NA24149_father/NISTv4.2.1/GRCh37/ \\\n",
    "    -O \n",
    "! wget ftp://ftp-trace.ncbi.nlm.nih.gov/giab/ftp/release/AshkenazimTrio/HG004_NA24143_mother/NISTv4.2.1/GRCh37/ \\\n",
    "    -O \n",
    "! wget ftp://ftp-trace.ncbi.nlm.nih.gov/giab/ftp/release/genome-stratifications/v3.0/v3.0-stratifications-GRCh37.tar.gz \\\n",
    "    -O \n",
    "\n"
   ]
  },
  {
   "cell_type": "markdown",
   "id": "b5841739",
   "metadata": {},
   "source": [
    "#### 2. Download SRA and GEO datasets"
   ]
  },
  {
   "cell_type": "code",
   "execution_count": 11,
   "id": "3f1b37c2",
   "metadata": {},
   "outputs": [
    {
     "ename": "SyntaxError",
     "evalue": "invalid syntax (3853023623.py, line 1)",
     "output_type": "error",
     "traceback": [
      "\u001b[0;36m  Input \u001b[0;32mIn [11]\u001b[0;36m\u001b[0m\n\u001b[0;31m    wget --quiet https://sra-download.ncbi.nlm.nih.gov/traces/sra53/SRR/017720/SRR18145553 \\\u001b[0m\n\u001b[0m                 ^\u001b[0m\n\u001b[0;31mSyntaxError\u001b[0m\u001b[0;31m:\u001b[0m invalid syntax\n"
     ]
    }
   ],
   "source": [
    "wget --quiet https://sra-download.ncbi.nlm.nih.gov/traces/*** \\\n",
    "    -O \"${TOP_DIR}/smrt_tag/raw/SRA***\"\n",
    "wget --quiet https://sra-download.ncbi.nlm.nih.gov/traces/*** \\\n",
    "    -O \"${TOP_DIR}/smrt_tag/raw/SRA***\"\n",
    "    \n",
    "# convert SRA file to FASTQ files\n",
    "fastq-dump ./SRR*** --split-files --include-technical\n",
    "fastq-dump ./SRR*** --split-files --include-technical"
   ]
  },
  {
   "cell_type": "code",
   "execution_count": null,
   "id": "563e9000",
   "metadata": {},
   "outputs": [],
   "source": []
  },
  {
   "cell_type": "code",
   "execution_count": null,
   "id": "48080fe2",
   "metadata": {},
   "outputs": [],
   "source": []
  },
  {
   "cell_type": "markdown",
   "id": "53c4dffe",
   "metadata": {},
   "source": [
    "#### Preprocessing"
   ]
  },
  {
   "cell_type": "code",
   "execution_count": null,
   "id": "0e1c5a62",
   "metadata": {},
   "outputs": [],
   "source": [
    "## SMRT-Tag HG002 data\n",
    "## CCS (already done)\n",
    "## Demultiplex with lima (already done)"
   ]
  },
  {
   "cell_type": "code",
   "execution_count": null,
   "id": "f198a34c",
   "metadata": {},
   "outputs": [],
   "source": [
    "## Merge files into BAMs for downstream use\n",
    "\n",
    "## HG002, HG003, HG004 bams\n",
    "## HG002\n",
    "pbmerge -j 15 \\\n",
    "    SMRT-Tag.A16.demux2.HG002_PR28--HG003_PR28.bam \\\n",
    "    SMRT-Tag.A16.demux2.HG002_PR29--HG003_PR29.bam \\\n",
    "    -o \"${TOP_DIR}/smrt_tag/raw/SMRT-Tag.A16.demux2.HG002.bam\"\n",
    "\n",
    "## HG003\n",
    "pbmerge -j 15 \\\n",
    "    SMRT-Tag.A16.demux2.HG003_PR33--HG003_PR33.bam \\\n",
    "    SMRT-Tag.A16.demux2.HG003_PR34--HG003_PR34.bam \\\n",
    "    -o \"${TOP_DIR}/smrt_tag/raw/SMRT-Tag.A16.demux2.HG003.bam\"\n",
    "## HG004\n",
    "\n",
    "pbmerge -j 15 \\\n",
    "    SMRT-Tag.A16.demux2.HG004_PR30--HG004_PR30.bam \\\n",
    "    SMRT-Tag.A16.demux2.HG004_PR31--HG004_PR31.bam \\\n",
    "    SMRT-Tag.A16.demux2.HG004_PR32--HG004_PR32.bam \\\n",
    "    -o \"${TOP_DIR}/smrt_tag/raw/SMRT-Tag.A16.demux2.HG004.bam\"\n",
    "    \n",
    "    \n",
    "## All HG003 bams\n",
    "pbmerge -j 15 \\\n",
    "    SMRT-Tag.A08.demux2.HG002_PR27--HG002_PR27.bam \\\n",
    "    SMRT-Tag.A08.demux2.HG002_PR28--HG002_PR28.bam \\\n",
    "    SMRT-Tag.A09.demux2.HG002_PR12--HG002_PR12.bam \\\n",
    "    SMRT-Tag.A09.demux2.HG002_PR27--HG002_PR27.bam \\\n",
    "    SMRT-Tag.A09.demux2.HG002_PR29--HG002_PR29.bam \\\n",
    "    SMRT-Tag.A09.demux2.HG002_PR30--HG002_PR30.bam \\\n",
    "    SMRT-Tag.A09.demux2.HG002_PR31--HG002_PR31.bam \\\n",
    "    SMRT-Tag.A09.demux2.HG002_PR32--HG002_PR32.bam \\\n",
    "    SMRT-Tag.A16.demux2.HG002_PR28--HG002_PR28.bam \\\n",
    "    SMRT-Tag.A16.demux2.HG002_PR29--HG002_PR29.bam \\\n",
    "    SMRT-Tag.A17.demux2.HG002_PR27--HG002_PR27.bam \\\n",
    "    SMRT-Tag.A17.demux2.HG002_PR28--HG002_PR28.bam \\\n",
    "    SMRT-Tag.A17.demux2.HG002_PR29--HG002_PR29.bam \\\n",
    "    SMRT-Tag.A17.demux2.HG002_PR30--HG002_PR30.bam \\\n",
    "    SMRT-Tag.A17.demux2.HG002_PR31--HG002_PR31.bam \\\n",
    "    SMRT-Tag.A17.demux2.HG002_PR32--HG002_PR32.bam \\\n",
    "    SMRT-Tag.A17.demux2.HG002_PR33--HG002_PR33.bam \\\n",
    "    SMRT-Tag.A17.demux2.HG002_PR34--HG002_PR34.bam \\\n",
    "    SMRT-Tag.A18.long.demux2.HG002_PR35--HG002_PR35.bam \\\n",
    "    SMRT-Tag.A18.long.demux2.HG002_PR36--HG002_PR36.bam \\\n",
    "    SMRT-Tag.A18.long.demux2.HG002_PR37--HG002_PR37.bam \\\n",
    "    SMRT-Tag.A18.long.demux2.HG002_PR38--HG002_PR38.bam \\\n",
    "    SMRT-Tag.A18.long.demux2.HG002_PR39--HG002_PR39.bam \\\n",
    "    SMRT-Tag.A18.long.demux2.HG002_PR40--HG002_PR40.bam \\\n",
    "    SMRT-Tag.A18.long.demux2.HG002_PR41--HG002_PR41.bam \\\n",
    "    SMRT-Tag.A18.long.demux2.HG002_PR42--HG002_PR42.bam \\\n",
    "    SMRT-Tag.A18.short.demux2.HG002_PR35--HG002_PR35.bam \\\n",
    "    SMRT-Tag.A18.short.demux2.HG002_PR36--HG002_PR36.bam \\\n",
    "    SMRT-Tag.A18.short.demux2.HG002_PR37--HG002_PR37.bam \\\n",
    "    SMRT-Tag.A18.short.demux2.HG002_PR38--HG002_PR38.bam \\\n",
    "    SMRT-Tag.A18.short.demux2.HG002_PR39--HG002_PR39.bam \\\n",
    "    SMRT-Tag.A18.short.demux2.HG002_PR40--HG002_PR40.bam \\\n",
    "    SMRT-Tag.A18.short.demux2.HG002_PR41--HG002_PR41.bam \\\n",
    "    SMRT-Tag.A18.short.demux2.HG002_PR42--HG002_PR42.bam \\\n",
    "    -o \"${TOP_DIR}/smrt_tag/preprocess/raw/SMRT-Tag.demux2.HG002.bam\"\n",
    "\n",
    "\n"
   ]
  },
  {
   "cell_type": "code",
   "execution_count": null,
   "id": "a32cdcbb",
   "metadata": {},
   "outputs": [],
   "source": []
  },
  {
   "cell_type": "code",
   "execution_count": 7,
   "id": "f23c8397",
   "metadata": {},
   "outputs": [
    {
     "name": "stdout",
     "output_type": "stream",
     "text": [
      "/Users/snanda/storage/lab/projects/SMRT-Tag/\r\n"
     ]
    }
   ],
   "source": []
  },
  {
   "cell_type": "code",
   "execution_count": null,
   "id": "c603cfcb",
   "metadata": {},
   "outputs": [],
   "source": []
  }
 ],
 "metadata": {
  "kernelspec": {
   "display_name": "Python 3 (ipykernel)",
   "language": "python",
   "name": "python3"
  },
  "language_info": {
   "codemirror_mode": {
    "name": "ipython",
    "version": 3
   },
   "file_extension": ".py",
   "mimetype": "text/x-python",
   "name": "python",
   "nbconvert_exporter": "python",
   "pygments_lexer": "ipython3",
   "version": "3.9.13"
  }
 },
 "nbformat": 4,
 "nbformat_minor": 5
}
