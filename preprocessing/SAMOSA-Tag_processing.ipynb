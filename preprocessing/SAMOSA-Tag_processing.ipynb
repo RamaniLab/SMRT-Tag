{
 "cells": [
  {
   "cell_type": "markdown",
   "id": "0ade9c80",
   "metadata": {},
   "source": [
    "## SAMOSA-Tag\n",
    "This notebook demonstrates how to run SAMOSA-Tag data through the (4)[SAMOSA-ChAAT computational pipeline]"
   ]
  },
  {
   "cell_type": "code",
   "execution_count": 2,
   "id": "6c3dba17",
   "metadata": {},
   "outputs": [],
   "source": [
    "## Specify the top-level directory \n",
    "TOP_DIR='/Users/snanda/storage/lab/projects/SMRT-Tag/'"
   ]
  },
  {
   "cell_type": "code",
   "execution_count": null,
   "id": "35c1d7f1",
   "metadata": {},
   "outputs": [],
   "source": [
    "## Set up the directory structure\n",
    "['preprocess/samosa/',\n",
    " 'preprocess/samosa/full/',\n",
    " 'preprocess/samosa/forNN/',\n",
    " 'preprocess/samosa/forHMM/',\n",
    " 'preprocess/samosa/binarized/',\n",
    "]"
   ]
  },
  {
   "cell_type": "code",
   "execution_count": 3,
   "id": "eef6fa8b",
   "metadata": {},
   "outputs": [],
   "source": [
    "## Download from SRA"
   ]
  },
  {
   "cell_type": "code",
   "execution_count": null,
   "id": "7f798ef9",
   "metadata": {},
   "outputs": [],
   "source": []
  },
  {
   "cell_type": "markdown",
   "id": "653d6962",
   "metadata": {},
   "source": [
    "#### 1) Extract IPDs from files"
   ]
  },
  {
   "cell_type": "code",
   "execution_count": null,
   "id": "f2e2805c",
   "metadata": {},
   "outputs": [],
   "source": [
    "%%bash\n",
    "#!/usr/bin/env bash\n",
    "\n",
    "for subreads_file in \"${TOP_DIR}/raw/OS152/\";\n",
    "do;\n",
    "    ccs -j 50 --log-level=INFO --hifi-kinetics $file \"${TOP_DIR}/${file##bam}.ccs_kinetics.bam\"\n",
    "done\n"
   ]
  },
  {
   "cell_type": "markdown",
   "id": "92aa6e27",
   "metadata": {},
   "source": [
    "#### Running the SAMOSA-ChAAT computational pipeline"
   ]
  },
  {
   "cell_type": "code",
   "execution_count": 4,
   "id": "064daa54",
   "metadata": {},
   "outputs": [],
   "source": [
    "### Define a sample-reference file "
   ]
  },
  {
   "cell_type": "code",
   "execution_count": null,
   "id": "059d7f18",
   "metadata": {},
   "outputs": [],
   "source": []
  },
  {
   "cell_type": "code",
   "execution_count": null,
   "id": "258baff3",
   "metadata": {},
   "outputs": [],
   "source": [
    "## Run the extractIPD component"
   ]
  },
  {
   "cell_type": "code",
   "execution_count": null,
   "id": "a0a15293",
   "metadata": {},
   "outputs": [],
   "source": [
    "%%bash\n",
    "## extract ipds\n",
    "for subreads_file in \"${TOP_DIR}/raw/OS152/\";\n",
    "do;\n",
    "    python extractIPD.py ccs_file subreads_file --sample -- ....\n",
    "done\n",
    "\n"
   ]
  },
  {
   "cell_type": "markdown",
   "id": "d1a04e3f",
   "metadata": {},
   "source": [
    "#### prepare reads for NN inference"
   ]
  },
  {
   "cell_type": "code",
   "execution_count": null,
   "id": "e8361271",
   "metadata": {},
   "outputs": [],
   "source": []
  },
  {
   "cell_type": "markdown",
   "id": "658a2d44",
   "metadata": {},
   "source": [
    "### Run HMM inference on them "
   ]
  },
  {
   "cell_type": "code",
   "execution_count": null,
   "id": "7fd3d0d1",
   "metadata": {},
   "outputs": [],
   "source": []
  },
  {
   "cell_type": "markdown",
   "id": "009a6ddc",
   "metadata": {},
   "source": [
    "### Run analysis on HMM code"
   ]
  },
  {
   "cell_type": "code",
   "execution_count": null,
   "id": "6b36be34",
   "metadata": {},
   "outputs": [],
   "source": []
  },
  {
   "cell_type": "markdown",
   "id": "50ade494",
   "metadata": {},
   "source": [
    "#### Convert vectors to state_strings and annotate the bam file "
   ]
  },
  {
   "cell_type": "code",
   "execution_count": null,
   "id": "9bad88ad",
   "metadata": {},
   "outputs": [],
   "source": []
  },
  {
   "cell_type": "code",
   "execution_count": null,
   "id": "47c81958",
   "metadata": {},
   "outputs": [],
   "source": []
  },
  {
   "cell_type": "code",
   "execution_count": null,
   "id": "802aa3cd",
   "metadata": {},
   "outputs": [],
   "source": []
  },
  {
   "cell_type": "markdown",
   "id": "582e8a71",
   "metadata": {},
   "source": [
    "# Secondary Analyses "
   ]
  },
  {
   "cell_type": "code",
   "execution_count": null,
   "id": "82f0478a",
   "metadata": {},
   "outputs": [],
   "source": [
    "### PRoduce ... \n",
    "## have to clean up vijay's scripts as well "
   ]
  }
 ],
 "metadata": {
  "kernelspec": {
   "display_name": "Python 3 (ipykernel)",
   "language": "python",
   "name": "python3"
  },
  "language_info": {
   "codemirror_mode": {
    "name": "ipython",
    "version": 3
   },
   "file_extension": ".py",
   "mimetype": "text/x-python",
   "name": "python",
   "nbconvert_exporter": "python",
   "pygments_lexer": "ipython3",
   "version": "3.9.13"
  }
 },
 "nbformat": 4,
 "nbformat_minor": 5
}
