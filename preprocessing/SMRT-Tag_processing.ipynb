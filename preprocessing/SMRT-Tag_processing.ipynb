{
 "cells": [
  {
   "cell_type": "markdown",
   "id": "8c8f6e12",
   "metadata": {},
   "source": [
    "## SMRT-Tag preprocessing\n",
    "This notebook downloads data, reference files, and preprocesses files"
   ]
  },
  {
   "cell_type": "code",
   "execution_count": null,
   "id": "0b27b536",
   "metadata": {},
   "outputs": [],
   "source": [
    "## SOftware to install\n",
    "- hap.py\n",
    "- deepvariant\n",
    "- bcftools\n",
    "- pbmm2\n",
    "- lima \n",
    "- ccs\n",
    "- mosdepth\n",
    "- samtools\n",
    "- bgzip\n",
    "- zcat\n",
    "- bedtools\n",
    "\n",
    "## demux comparisons\n",
    "\n",
    "\n",
    "\n"
   ]
  },
  {
   "cell_type": "code",
   "execution_count": 4,
   "id": "7969939f",
   "metadata": {},
   "outputs": [],
   "source": [
    "## this notebook assumes the correct conda environment has already been set up as recommended in the README"
   ]
  },
  {
   "cell_type": "code",
   "execution_count": 8,
   "id": "2ff3b7f0",
   "metadata": {},
   "outputs": [],
   "source": [
    "## Specify the top-level directory \n",
    "TOP_DIR='/Users/snanda/storage/lab/projects/SMRT-Tag/'"
   ]
  },
  {
   "cell_type": "code",
   "execution_count": 9,
   "id": "ea08154e",
   "metadata": {},
   "outputs": [
    {
     "name": "stdout",
     "output_type": "stream",
     "text": [
      "/Users/snanda/storage/lab/projects/SMRT-Tag/\r\n"
     ]
    }
   ],
   "source": [
    "! echo $TOP_DIR"
   ]
  },
  {
   "cell_type": "code",
   "execution_count": 15,
   "id": "d01ff078",
   "metadata": {},
   "outputs": [
    {
     "data": {
      "text/plain": [
       "'/Users/snanda/storage/lab/projects/SMRT-Tag/CheesE'"
      ]
     },
     "execution_count": 15,
     "metadata": {},
     "output_type": "execute_result"
    }
   ],
   "source": []
  },
  {
   "cell_type": "code",
   "execution_count": null,
   "id": "ff22ac88",
   "metadata": {},
   "outputs": [],
   "source": [
    "## Create directory structure \n",
    "['reference',\n",
    " 'raw/HG/',\n",
    " 'preprocess/align','preprocess/samosa','preprocess/cpg',\n",
    " 'analyses/']"
   ]
  },
  {
   "cell_type": "markdown",
   "id": "bbf7e263",
   "metadata": {},
   "source": [
    "#### 1. Download reference datasets"
   ]
  },
  {
   "cell_type": "code",
   "execution_count": null,
   "id": "6b4504d5",
   "metadata": {},
   "outputs": [],
   "source": [
    "## Obtain reference files from various locations\n",
    "\n",
    "\n",
    "## hg38 reference genome\n",
    "\n",
    "\n",
    "\n",
    "! wget ftp://ftp-trace.ncbi.nlm.nih.gov/giab/ftp/release/references/GRCh37/hs37d5.fa.gz \\\n",
    "    -O \n",
    "! wget ftp://ftp-trace.ncbi.nlm.nih.gov/giab/ftp/release/AshkenazimTrio/HG002_NA24385_son/NISTv4.2.1/GRCh37/ \\\n",
    "    -O \n",
    "! wget ftp://ftp-trace.ncbi.nlm.nih.gov/giab/ftp/release/AshkenazimTrio/HG003_NA24149_father/NISTv4.2.1/GRCh37/ \\\n",
    "    -O \n",
    "! wget ftp://ftp-trace.ncbi.nlm.nih.gov/giab/ftp/release/AshkenazimTrio/HG004_NA24143_mother/NISTv4.2.1/GRCh37/ \\\n",
    "    -O \n",
    "! wget ftp://ftp-trace.ncbi.nlm.nih.gov/giab/ftp/release/genome-stratifications/v3.0/v3.0-stratifications-GRCh37.tar.gz \\\n",
    "    -O \n",
    "\n",
    "\n",
    "    \n",
    "wget ftp://ftp-trace.ncbi.nlm.nih.gov/giab/ftp/data/AshkenazimTrio/HG002_NA24385_son/PacBio_SequelII_CCS_11kb/HG002.SequelII.pbmm2.hs37d5.whatshap.haplotag.RTG.10x.trio.bam"
   ]
  },
  {
   "cell_type": "code",
   "execution_count": null,
   "id": "1ddbcc65",
   "metadata": {},
   "outputs": [],
   "source": [
    "## Remove contaminant contig from the hg38 reference "
   ]
  },
  {
   "cell_type": "markdown",
   "id": "b3bcd6f7",
   "metadata": {},
   "source": [
    "#### 2. Download SRA and GEO datasets"
   ]
  },
  {
   "cell_type": "code",
   "execution_count": 11,
   "id": "c0c2cc8c",
   "metadata": {},
   "outputs": [
    {
     "ename": "SyntaxError",
     "evalue": "invalid syntax (3853023623.py, line 1)",
     "output_type": "error",
     "traceback": [
      "\u001b[0;36m  Input \u001b[0;32mIn [11]\u001b[0;36m\u001b[0m\n\u001b[0;31m    wget --quiet https://sra-download.ncbi.nlm.nih.gov/traces/sra53/SRR/017720/SRR18145553 \\\u001b[0m\n\u001b[0m                 ^\u001b[0m\n\u001b[0;31mSyntaxError\u001b[0m\u001b[0;31m:\u001b[0m invalid syntax\n"
     ]
    }
   ],
   "source": [
    "wget --quiet https://sra-download.ncbi.nlm.nih.gov/traces/*** \\\n",
    "    -O \"${TOP_DIR}/smrt_tag/raw/SRA***\"\n",
    "wget --quiet https://sra-download.ncbi.nlm.nih.gov/traces/*** \\\n",
    "    -O \"${TOP_DIR}/smrt_tag/raw/SRA***\"\n",
    "    \n",
    "# convert SRA file to FASTQ files\n",
    "fastq-dump ./SRR*** --split-files --include-technical\n",
    "fastq-dump ./SRR*** --split-files --include-technical"
   ]
  },
  {
   "cell_type": "markdown",
   "id": "38fd431f",
   "metadata": {},
   "source": [
    "#### 3) Preprocessing"
   ]
  },
  {
   "cell_type": "code",
   "execution_count": null,
   "id": "c53397c6",
   "metadata": {},
   "outputs": [],
   "source": [
    "## SMRT-Tag HG002 data\n",
    "## CCS (already done)\n",
    "## Demultiplex with lima (already done)"
   ]
  },
  {
   "cell_type": "code",
   "execution_count": null,
   "id": "e3aeb0e2",
   "metadata": {},
   "outputs": [],
   "source": [
    "%%bash\n",
    "#!/usr/bin/env bash\n",
    "set -eu\n",
    "\n",
    "## Demultiplex with lima\n",
    "\n",
    "for file in $...\n",
    "    lima --ccs --same -j 15 --split-named --dump-clips --log-level=INFO\n"
   ]
  },
  {
   "cell_type": "code",
   "execution_count": null,
   "id": "82a4a0dd",
   "metadata": {},
   "outputs": [],
   "source": [
    "%%bash\n",
    "#!/usr/bin/env bash\n",
    "set -eu\n",
    "## Merge files into BAMs for downstream use\n",
    "\n",
    "## HG002, HG003, HG004 bams\n",
    "## HG002\n",
    "pbmerge -j 15 \\\n",
    "    SMRT-Tag.A16.demux2.HG002_PR28--HG003_PR28.bam \\\n",
    "    SMRT-Tag.A16.demux2.HG002_PR29--HG003_PR29.bam \\\n",
    "    -o \"${TOP_DIR}/smrt_tag/raw/HG/SMRT-Tag.A16.demux2.HG002.bam\"\n",
    "\n",
    "## HG003\n",
    "pbmerge -j 15 \\\n",
    "    SMRT-Tag.A16.demux2.HG003_PR33--HG003_PR33.bam \\\n",
    "    SMRT-Tag.A16.demux2.HG003_PR34--HG003_PR34.bam \\\n",
    "    -o \"${TOP_DIR}/smrt_tag/raw/HG/SMRT-Tag.A16.demux2.HG003.bam\"\n",
    "## HG004\n",
    "\n",
    "pbmerge -j 15 \\\n",
    "    SMRT-Tag.A16.demux2.HG004_PR30--HG004_PR30.bam \\\n",
    "    SMRT-Tag.A16.demux2.HG004_PR31--HG004_PR31.bam \\\n",
    "    SMRT-Tag.A16.demux2.HG004_PR32--HG004_PR32.bam \\\n",
    "    -o \"${TOP_DIR}/smrt_tag/raw/HG/SMRT-Tag.A16.demux2.HG004.bam\"\n",
    "    \n",
    "    \n",
    "## All HG003 bams\n",
    "pbmerge -j 15 \\\n",
    "    SMRT-Tag.A08.demux2.HG002_PR27--HG002_PR27.bam \\\n",
    "    SMRT-Tag.A08.demux2.HG002_PR28--HG002_PR28.bam \\\n",
    "    SMRT-Tag.A09.demux2.HG002_PR12--HG002_PR12.bam \\\n",
    "    SMRT-Tag.A09.demux2.HG002_PR27--HG002_PR27.bam \\\n",
    "    SMRT-Tag.A09.demux2.HG002_PR29--HG002_PR29.bam \\\n",
    "    SMRT-Tag.A09.demux2.HG002_PR30--HG002_PR30.bam \\\n",
    "    SMRT-Tag.A09.demux2.HG002_PR31--HG002_PR31.bam \\\n",
    "    SMRT-Tag.A09.demux2.HG002_PR32--HG002_PR32.bam \\\n",
    "    SMRT-Tag.A16.demux2.HG002_PR28--HG002_PR28.bam \\\n",
    "    SMRT-Tag.A16.demux2.HG002_PR29--HG002_PR29.bam \\\n",
    "    SMRT-Tag.A17.demux2.HG002_PR27--HG002_PR27.bam \\\n",
    "    SMRT-Tag.A17.demux2.HG002_PR28--HG002_PR28.bam \\\n",
    "    SMRT-Tag.A17.demux2.HG002_PR29--HG002_PR29.bam \\\n",
    "    SMRT-Tag.A17.demux2.HG002_PR30--HG002_PR30.bam \\\n",
    "    SMRT-Tag.A17.demux2.HG002_PR31--HG002_PR31.bam \\\n",
    "    SMRT-Tag.A17.demux2.HG002_PR32--HG002_PR32.bam \\\n",
    "    SMRT-Tag.A17.demux2.HG002_PR33--HG002_PR33.bam \\\n",
    "    SMRT-Tag.A17.demux2.HG002_PR34--HG002_PR34.bam \\\n",
    "    SMRT-Tag.A18.long.demux2.HG002_PR35--HG002_PR35.bam \\\n",
    "    SMRT-Tag.A18.long.demux2.HG002_PR36--HG002_PR36.bam \\\n",
    "    SMRT-Tag.A18.long.demux2.HG002_PR37--HG002_PR37.bam \\\n",
    "    SMRT-Tag.A18.long.demux2.HG002_PR38--HG002_PR38.bam \\\n",
    "    SMRT-Tag.A18.long.demux2.HG002_PR39--HG002_PR39.bam \\\n",
    "    SMRT-Tag.A18.long.demux2.HG002_PR40--HG002_PR40.bam \\\n",
    "    SMRT-Tag.A18.long.demux2.HG002_PR41--HG002_PR41.bam \\\n",
    "    SMRT-Tag.A18.long.demux2.HG002_PR42--HG002_PR42.bam \\\n",
    "    SMRT-Tag.A18.short.demux2.HG002_PR35--HG002_PR35.bam \\\n",
    "    SMRT-Tag.A18.short.demux2.HG002_PR36--HG002_PR36.bam \\\n",
    "    SMRT-Tag.A18.short.demux2.HG002_PR37--HG002_PR37.bam \\\n",
    "    SMRT-Tag.A18.short.demux2.HG002_PR38--HG002_PR38.bam \\\n",
    "    SMRT-Tag.A18.short.demux2.HG002_PR39--HG002_PR39.bam \\\n",
    "    SMRT-Tag.A18.short.demux2.HG002_PR40--HG002_PR40.bam \\\n",
    "    SMRT-Tag.A18.short.demux2.HG002_PR41--HG002_PR41.bam \\\n",
    "    SMRT-Tag.A18.short.demux2.HG002_PR42--HG002_PR42.bam \\\n",
    "    -o \"${TOP_DIR}/smrt_tag/raw/HG/SMRT-Tag.demux2.HG002.bam\"\n",
    "\n",
    "\n"
   ]
  },
  {
   "cell_type": "markdown",
   "id": "2ff0c3ab",
   "metadata": {},
   "source": [
    "### Preprocess OS152 to ccs reads"
   ]
  },
  {
   "cell_type": "code",
   "execution_count": 16,
   "id": "2a04d51e",
   "metadata": {},
   "outputs": [
    {
     "data": {
      "text/plain": [
       "['preprocess/samosa/',\n",
       " 'preprocess/samosa/full/',\n",
       " 'preprocess/samosa/forNN/',\n",
       " 'preprocess/samosa/forHMM/',\n",
       " 'preprocess/samosa/binarized/']"
      ]
     },
     "execution_count": 16,
     "metadata": {},
     "output_type": "execute_result"
    }
   ],
   "source": [
    "## Set up the directory structure\n",
    "['preprocess/samosa/',\n",
    " 'preprocess/samosa/full/',\n",
    " 'preprocess/samosa/forNN/',\n",
    " 'preprocess/samosa/forHMM/',\n",
    " 'preprocess/samosa/binarized/',\n",
    "]"
   ]
  },
  {
   "cell_type": "code",
   "execution_count": null,
   "id": "8e31dd27",
   "metadata": {},
   "outputs": [],
   "source": []
  },
  {
   "cell_type": "code",
   "execution_count": null,
   "id": "af8bf862",
   "metadata": {},
   "outputs": [],
   "source": [
    "pbmerge ..."
   ]
  },
  {
   "cell_type": "markdown",
   "id": "570b71f4",
   "metadata": {},
   "source": [
    "### Running primrose"
   ]
  },
  {
   "cell_type": "code",
   "execution_count": null,
   "id": "88552a29",
   "metadata": {},
   "outputs": [],
   "source": [
    "## Run primrose on HG002 aggregate\n",
    "primrose ...\n",
    "\n",
    "\n",
    "## Run Primrose on OS152 aggregate\n"
   ]
  },
  {
   "cell_type": "code",
   "execution_count": null,
   "id": "2058112d",
   "metadata": {},
   "outputs": [],
   "source": []
  },
  {
   "cell_type": "markdown",
   "id": "f44363bc",
   "metadata": {},
   "source": [
    "### 4) aligning"
   ]
  },
  {
   "cell_type": "code",
   "execution_count": null,
   "id": "8fd7d8aa",
   "metadata": {},
   "outputs": [],
   "source": [
    "## Align primose containing bams to reference \n"
   ]
  },
  {
   "cell_type": "code",
   "execution_count": null,
   "id": "6224c726",
   "metadata": {},
   "outputs": [],
   "source": []
  },
  {
   "cell_type": "code",
   "execution_count": null,
   "id": "59e6c91e",
   "metadata": {},
   "outputs": [],
   "source": []
  },
  {
   "cell_type": "code",
   "execution_count": null,
   "id": "edc637f2",
   "metadata": {},
   "outputs": [],
   "source": []
  },
  {
   "cell_type": "code",
   "execution_count": 17,
   "id": "78923efd",
   "metadata": {},
   "outputs": [],
   "source": [
    "### "
   ]
  },
  {
   "cell_type": "code",
   "execution_count": null,
   "id": "3caf8d10",
   "metadata": {},
   "outputs": [],
   "source": []
  },
  {
   "cell_type": "markdown",
   "id": "f2ce1ff0",
   "metadata": {},
   "source": [
    "### Produce analysis files"
   ]
  },
  {
   "cell_type": "code",
   "execution_count": null,
   "id": "d943be10",
   "metadata": {},
   "outputs": [],
   "source": []
  },
  {
   "cell_type": "code",
   "execution_count": null,
   "id": "bbf83156",
   "metadata": {},
   "outputs": [],
   "source": []
  },
  {
   "cell_type": "code",
   "execution_count": null,
   "id": "353c0749",
   "metadata": {},
   "outputs": [],
   "source": []
  },
  {
   "cell_type": "markdown",
   "id": "e6f4acbd",
   "metadata": {},
   "source": [
    "### Variant Calling "
   ]
  },
  {
   "cell_type": "code",
   "execution_count": null,
   "id": "08c834d2",
   "metadata": {},
   "outputs": [],
   "source": []
  }
 ],
 "metadata": {
  "kernelspec": {
   "display_name": "Python 3 (ipykernel)",
   "language": "python",
   "name": "python3"
  },
  "language_info": {
   "codemirror_mode": {
    "name": "ipython",
    "version": 3
   },
   "file_extension": ".py",
   "mimetype": "text/x-python",
   "name": "python",
   "nbconvert_exporter": "python",
   "pygments_lexer": "ipython3",
   "version": "3.9.13"
  }
 },
 "nbformat": 4,
 "nbformat_minor": 5
}
