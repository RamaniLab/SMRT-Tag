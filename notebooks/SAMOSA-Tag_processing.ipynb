{
 "cells": [
  {
   "cell_type": "markdown",
   "id": "0ade9c80",
   "metadata": {},
   "source": [
    "# SAMOSA-Tag\n",
    "#### 08/03/2022\n",
    "This notebook demonstrates how to analyze SAMOSA-Tag data using the [SAMOSA-ChAAT computational pipeline](https://github.com/RamaniLab/SAMOSA-ChAAT) and perform the set of analyses described in our associated manuscript."
   ]
  },
  {
   "cell_type": "code",
   "execution_count": null,
   "id": "921bbccc",
   "metadata": {},
   "outputs": [],
   "source": [
    "## Imports\n",
    "import os"
   ]
  },
  {
   "cell_type": "code",
   "execution_count": null,
   "id": "6c3dba17",
   "metadata": {},
   "outputs": [],
   "source": [
    "## Get path of notebook \n",
    "NOTEBOOK_PATH = os.getcwd()\n",
    "## Set working directory paths\n",
    "BASE_DIR=os.path.join(os.path.dirname(NOTEBOOK_PATH))\n",
    "TOP_DIR=os.path.join(BASE_DIR,'smrt_tag')\n",
    "## Specify the top-level directory \n",
    "TOP_DIR='/Users/snanda/storage/lab/projects/SMRT-Tag/smrt_tag/'"
   ]
  },
  {
   "cell_type": "code",
   "execution_count": null,
   "id": "bf2024d9",
   "metadata": {},
   "outputs": [],
   "source": [
    "## Set up data directories\n",
    "directories=[\n",
    "    'raw/OS152/',\n",
    "    'analyses/OS152/',\n",
    "    'preprocess/align/',\n",
    "    'preprocess/samosa/ccs/',\n",
    "    'preprocess/samosa/processed/full/',\n",
    "    'preprocess/samosa/processed/forNN/',\n",
    "    'preprocess/samosa/processed/forHMM/',\n",
    "    'preprocess/samosa/processed/binarized/HMMout/',\n",
    "    'preprocess/samosa/processed/inaccessibleRegions/',\n",
    "    'preprocess/samosa/processed/density/',\n",
    "    'preprocess/samosa/processed/annot/'\n",
    "]\n",
    "\n",
    "for directory in directories:\n",
    "    os.makedirs(\"{}/{}\".format(TOP_DIR,directory),exist_ok=True)"
   ]
  },
  {
   "cell_type": "markdown",
   "id": "a530a248",
   "metadata": {},
   "source": [
    "###  0) Download raw data from SRA"
   ]
  },
  {
   "cell_type": "code",
   "execution_count": null,
   "id": "7f798ef9",
   "metadata": {},
   "outputs": [],
   "source": [
    "# %%bash\n",
    "# #!/usr/bin/env bash\n",
    "# # download_OS152_raw_data.sh: bash script for downloading OS152 SAMOSA-Tag raw data from the NCBI SRA\n",
    "# # Usage: ./download_OS152_raw_data.sh\n",
    "# prefetch SRRXXX SRRXXX SRRXXX SRRXXX SRRXXX SRRXXX SRRXXX SRRXXX SRRXXX SRRXXX\n",
    "# ## plusM\n",
    "# --output-file \"$TOP_DIR/raw/OS152/SAMOSA-Tag.subread.OS152_PR27_plusM--OS152_PR27_plusM.bam\"\n",
    "# --output-file \"$TOP_DIR/raw/OS152/SAMOSA-Tag.subread.OS152_PR28_plusM--OS152_PR28_plusM.bam\"\n",
    "# --output-file \"$TOP_DIR/raw/OS152/SAMOSA-Tag.subread.OS152_PR29_plusM--OS152_PR29_plusM.bam\"\n",
    "# --output-file \"$TOP_DIR/raw/OS152/SAMOSA-Tag.subread.OS152_PR30_plusM--OS152_PR30_plusM.bam\"\n",
    "# --output-file \"$TOP_DIR/raw/OS152/SAMOSA-Tag.subread.OS152_PR31_plusM--OS152_PR31_plusM.bam\"\n",
    "# --output-file \"$TOP_DIR/raw/OS152/SAMOSA-Tag.subread.OS152_PR32_plusM--OS152_PR32_plusM.bam\"\n",
    "# --output-file \"$TOP_DIR/raw/OS152/SAMOSA-Tag.subread.OS152_PR33_plusM--OS152_PR33_plusM.bam\"\n",
    "# --output-file \"$TOP_DIR/raw/OS152/SAMOSA-Tag.subread.OS152_PR34_plusM--OS152_PR34_plusM.bam\"\n",
    "# ## minusM\n",
    "# --output-file \"$TOP_DIR/raw/OS152/SAMOSA-Tag.subread.OS152_PR12_minusM--OS152_PR12_minusM.bam\"\n",
    "# --output-file \"$TOP_DIR/raw/OS152/SAMOSA-Tag.subread.OS152_PR30_minusM--OS152_PR30_minusM.bam\"\n",
    "# --output-file \"$TOP_DIR/raw/OS152/SAMOSA-Tag.subread.OS152_PR31_minusM--OS152_PR31_minusM.bam\""
   ]
  },
  {
   "cell_type": "markdown",
   "id": "653d6962",
   "metadata": {},
   "source": [
    "### 1a.) Run CCS"
   ]
  },
  {
   "cell_type": "code",
   "execution_count": null,
   "id": "f2e2805c",
   "metadata": {},
   "outputs": [],
   "source": [
    "%%bash\n",
    "#!/usr/bin/env bash\n",
    "# OS152_ccs.sh: bash script to run ccs on OS152 SAMOSA-Tag raw subread BAM files \n",
    "# Usage: ./OS152_ccs.sh\n",
    "set -eo pipefail\n",
    "\n",
    "for subreads_file in $(ls \"${TOP_DIR}/raw/OS152/*bam\");\n",
    "do;\n",
    "    file=$(basename $subreads_file)\n",
    "    \n",
    "    outfile=\"${file/subread/subread.ccs}\"\n",
    "    \n",
    "    ccs \\\n",
    "        -j 50 \\\n",
    "        --log-level=INFO \\\n",
    "        --hifi-kinetics \\\n",
    "        $subreads_file \\\n",
    "        \"${TOP_DIR}/preprocess/samosa/ccs/${outfile/--*/.bam}\"\n",
    "done\n",
    "\n"
   ]
  },
  {
   "cell_type": "markdown",
   "id": "f9353384",
   "metadata": {},
   "source": [
    "### 1b.) Merge relevant CCS files"
   ]
  },
  {
   "cell_type": "code",
   "execution_count": null,
   "id": "67a5ebfb",
   "metadata": {},
   "outputs": [],
   "source": [
    "%%bash\n",
    "#!/usr/bin/env bash\n",
    "# merge_OS152_ccs_data.sh: bash script to merge OS152 SAMOSA-Tag ccs bam files by condition\n",
    "# Usage: ./merge_OS152_ccs_data.sh\n",
    "set -eo pipefail\n",
    "\n",
    "pbmerge -j 15 \\\n",
    "    \"$TOP_DIR/preprocess/samosa/ccs/SAMOSA-Tag.subread.ccs.OS152_PR27_plusM.bam\" \\\n",
    "    \"$TOP_DIR/preprocess/samosa/ccs/SAMOSA-Tag.subread.ccs.OS152_PR28_plusM.bam\" \\\n",
    "    \"$TOP_DIR/preprocess/samosa/ccs/SAMOSA-Tag.subread.ccs.OS152_PR29_plusM.bam\" \\\n",
    "    \"$TOP_DIR/preprocess/samosa/ccs/SAMOSA-Tag.subread.ccs.OS152_PR30_plusM.bam\" \\\n",
    "    \"$TOP_DIR/preprocess/samosa/ccs/SAMOSA-Tag.subread.ccs.OS152_PR31_plusM.bam\" \\\n",
    "    \"$TOP_DIR/preprocess/samosa/ccs/SAMOSA-Tag.subread.ccs.OS152_PR32_plusM.bam\" \\\n",
    "    \"$TOP_DIR/preprocess/samosa/ccs/SAMOSA-Tag.subread.ccs.OS152_PR33_plusM.bam\" \\\n",
    "    \"$TOP_DIR/preprocess/samosa/ccs/SAMOSA-Tag.subread.ccs.OS152_PR34_plusM.bam\"\n",
    "    -o \"$TOP_DIR/preprocess/samosa/ccs/SAMOSA-Tag.subread.ccs.OS152_plusM.bam\"\n",
    "    \n",
    "    \n",
    "pbmerge -j 15 \\\n",
    "    \"$TOP_DIR/preprocess/samosa/ccs/SAMOSA-Tag.subread.ccs.OS152_PR12_minusM.bam\" \\\n",
    "    \"$TOP_DIR/preprocess/samosa/ccs/SAMOSA-Tag.subread.ccs.OS152_PR30_minusM.bam\" \\\n",
    "    \"$TOP_DIR/preprocess/samosa/ccs/SAMOSA-Tag.subread.ccs.OS152_PR31_minusM.bam\" \\\n",
    "    -o \"$TOP_DIR/preprocess/samosa/ccs/SAMOSA-Tag.subread.ccs.OS152_minusM.bam\""
   ]
  },
  {
   "cell_type": "markdown",
   "id": "b40df8e0",
   "metadata": {},
   "source": [
    "### 1c.) Run primrose on aggregated ccs files "
   ]
  },
  {
   "cell_type": "code",
   "execution_count": null,
   "id": "f1b2ee4f",
   "metadata": {},
   "outputs": [],
   "source": [
    "%%bash\n",
    "#!/usr/bin/env bash\n",
    "# run_primrose_OS152_ccs_data.sh: bash script to run primrose on merged OS152 SAMOSA-Tag ccs data\n",
    "# Usage: ./run_primrose_OS152_ccs_data.sh\n",
    "\n",
    "primrose \\\n",
    "    -j 30 \\\n",
    "    --log-level INFO \n",
    "    --keep-kinetics \\\n",
    "    \"$TOP_DIR/preprocess/samosa/ccs/SAMOSA-Tag.subread.ccs.OS152_plusM.bam\"\n",
    "    \"$TOP_DIR/preprocess/samosa/ccs/SAMOSA-Tag.subread.ccs.OS152_plusM.primrose.bam\"\n",
    "\n",
    "\n",
    "primrose \\\n",
    "    -j 30 \\\n",
    "    --log-level INFO \n",
    "    --keep-kinetics \\\n",
    "    \"$TOP_DIR/preprocess/samosa/ccs/SAMOSA-Tag.subread.ccs.OS152_minusM.bam\"\n",
    "    \"$TOP_DIR/preprocess/samosa/ccs/SAMOSA-Tag.subread.ccs.OS152_minusM.primrose.bam\"\n",
    "\n"
   ]
  },
  {
   "cell_type": "markdown",
   "id": "903cb01d",
   "metadata": {},
   "source": [
    "### 1d.) Align all ccs files"
   ]
  },
  {
   "cell_type": "code",
   "execution_count": null,
   "id": "9116972d",
   "metadata": {},
   "outputs": [],
   "source": [
    "%%bash\n",
    "#!/usr/bin/env bash\n",
    "# align_OS152_ccs_data.sh: bash script to align all OS152 SAMOSA-Tag ccs data\n",
    "# Usage: ./align_OS152_ccs_data.sh\n",
    "\n",
    "for ccs_file in $(ls \"${TOP_DIR}/preprocess/samosa/ccs/*OS152*bam\");\n",
    "do;\n",
    "    file=$(basename $ccs_file)\n",
    "    \n",
    "    pbmm2 align \\\n",
    "    --preset CCS \\\n",
    "    --sort -j 30 \\\n",
    "    --bam-index BAI \\\n",
    "    --log-level DEBUG \\\n",
    "    $ccs_file \\\n",
    "    \"$TOP_DIR/ref/GRCh38/hg38.fa\" \\\n",
    "    \"$TOP_DIR/preprocess/align/${file/.bam/.align.sorted.bam}\"\n",
    "    \n",
    "done"
   ]
  },
  {
   "cell_type": "markdown",
   "id": "92aa6e27",
   "metadata": {},
   "source": [
    "### 2) Running the SAMOSA-ChAAT computational pipeline"
   ]
  },
  {
   "cell_type": "code",
   "execution_count": null,
   "id": "7495bd9a",
   "metadata": {},
   "outputs": [],
   "source": [
    "## Set up the sample reference file for the SAMOSA-ChAAT pipeline\n",
    "sampleref_string = [\n",
    "    \"index,ccsFile,unalignedSubreadsFile,sampleName,cell,reference\\n\",\n",
    "    \"0,{}/preprocess/samosa/ccs/SAMOSA-Tag.subread.ccs.OS152_PR27_plusM.bam,{}/raw/OS152/SAMOSA-Tag.subread.OS152_PR27_plusM--OS152_PR27_plusM.bam,PR27_plusM,OS152,none\\n\",\n",
    "    \"1,{}/preprocess/samosa/ccs/SAMOSA-Tag.subread.ccs.OS152_PR28_plusM.bam,{}/raw/OS152/SAMOSA-Tag.subread.OS152_PR28_plusM--OS152_PR28_plusM.bam,PR28_plusM,OS152,none\\n\",\n",
    "    \"2,{}/preprocess/samosa/ccs/SAMOSA-Tag.subread.ccs.OS152_PR29_plusM.bam,{}/raw/OS152/SAMOSA-Tag.subread.OS152_PR29_plusM--OS152_PR29_plusM.bam,PR29_plusM,OS152,none\\n\",\n",
    "    \"3,{}/preprocess/samosa/ccs/SAMOSA-Tag.subread.ccs.OS152_PR30_plusM.bam,{}/raw/OS152/SAMOSA-Tag.subread.OS152_PR30_plusM--OS152_PR30_plusM.bam,PR30_plusM,OS152,none\\n\",\n",
    "    \"4,{}/preprocess/samosa/ccs/SAMOSA-Tag.subread.ccs.OS152_PR31_plusM.bam,{}/raw/OS152/SAMOSA-Tag.subread.OS152_PR31_plusM--OS152_PR31_plusM.bam,PR31_plusM,OS152,none\\n\",\n",
    "    \"5,{}/preprocess/samosa/ccs/SAMOSA-Tag.subread.ccs.OS152_PR32_plusM.bam,{}/raw/OS152/SAMOSA-Tag.subread.OS152_PR32_plusM--OS152_PR32_plusM.bam,PR32_plusM,OS152,none\\n\",\n",
    "    \"6,{}/preprocess/samosa/ccs/SAMOSA-Tag.subread.ccs.OS152_PR33_plusM.bam,{}/raw/OS152/SAMOSA-Tag.subread.OS152_PR33_plusM--OS152_PR33_plusM.bam,PR33_plusM,OS152,none\\n\",\n",
    "    \"7,{}/preprocess/samosa/ccs/SAMOSA-Tag.subread.ccs.OS152_PR34_plusM.bam,{}/raw/OS152/SAMOSA-Tag.subread.OS152_PR34_plusM--OS152_PR34_plusM.bam,PR34_plusM,OS152,none\\n\",\n",
    "    \"8,{}/preprocess/samosa/ccs/SAMOSA-Tag.subread.ccs.OS152_PR12_minusM.bam,{}/raw/OS152/SAMOSA-Tag.subread.OS152_PR12_minusM--OS152_PR12_minusM.bam,PR12_minusM,OS152,none\\n\",\n",
    "    \"9,{}/preprocess/samosa/ccs/SAMOSA-Tag.subread.ccs.OS152_PR30_minusM.bam,{}/raw/OS152/SAMOSA-Tag.subread.OS152_PR30_minusM--OS152_PR30_minusM.bam,PR30_minusM,OS152,none\\n\",\n",
    "    \"10,{}/preprocess/samosa/ccs/SAMOSA-Tag.subread.ccs.OS152_PR31_minusM.bam,{}/raw/OS152/SAMOSA-Tag.subread.OS152_PR31_minusM--OS152_PR31_minusM.bam,PR31_minusM,OS152,none\"\n",
    "]\n",
    "\n",
    "sample_reference_filepath = '{}/preprocess/samosa/OS152.referenceFile.csv'.format(TOP_DIR)\n",
    "with open(sample_reference_filepath,'w+') as f:\n",
    "    f.write(\"\".join(x.format(TOP_DIR,TOP_DIR) for x in sampleref_string))\n",
    "\n",
    "print(sample_reference_filepath)"
   ]
  },
  {
   "cell_type": "markdown",
   "id": "c5f723e9",
   "metadata": {},
   "source": [
    "#### 2a.) Extract sample IPDs"
   ]
  },
  {
   "cell_type": "code",
   "execution_count": null,
   "id": "dfd1965d",
   "metadata": {},
   "outputs": [],
   "source": [
    "%%bash\n",
    "#!/usr/bin/env bash\n",
    "# 01_extractIpdlinear.sh: bash script to run 01_extractIpdlinear.py, and extract IPD values per read\n",
    "# Usage: ./01_extractIpdlinear.sh *sample_ids*\n",
    "#\n",
    "## Inputs:\n",
    "#     --referenceFile: SAMOSA-ChAAT reference file\n",
    "#     --threads: number of threads (15)\n",
    "#     --outputlocation: Where to write output files\n",
    "#\n",
    "## Outputs:\n",
    "#     Output files are written to $outputlocation/processed/full/\n",
    "#     *_full.pickle: dictionary containing IPD measurements per molecule\n",
    "#     *_full_zmwinfo.pickle: data frame containing molecule attributes (length, ZMWID etc.)\n",
    "set -eu pipefail\n",
    "\n",
    "python3 $BASE_DIR/samosa-chaat/01_extractIpdlinear.py \\\n",
    "    0 1 2 3 4 5 6 7 8 9 10 \\ ## samples {PR27-PR34 plusM, PR12-31 minusM}\n",
    "    --referenceFile \"$TOP_DIR/preprocess/samosa/OS152.referenceFile.csv\" \\\n",
    "    --threads 15 \\\n",
    "    --outputlocation \"$TOP_DIR/preprocess/samosa/\"\n"
   ]
  },
  {
   "cell_type": "markdown",
   "id": "37e2d59e",
   "metadata": {},
   "source": [
    "#### 2b.) Format data for network inference"
   ]
  },
  {
   "cell_type": "code",
   "execution_count": null,
   "id": "c934dafa",
   "metadata": {},
   "outputs": [],
   "source": [
    "%%bash\n",
    "#!/usr/bin/env bash\n",
    "# 02_formatNN.sh: bash script to run 02_formatNN.py, and format reads for NN inference\n",
    "# Usage: ./02_formatNN.sh *sample_ids*\n",
    "#\n",
    "## Inputs:\n",
    "#     --referenceFile: SAMOSA-ChAAT reference file\n",
    "#     --outputlocation: Where to write output files\n",
    "#     Input Files are read from $outputlocation/processed/full/*_full.pickle\n",
    "#\n",
    "## Outputs:\n",
    "#     Output files are written to $outputlocation/processed/forNN/\n",
    "#     *_forNN.npz: Read & IPD data formatted for NN inference\n",
    "set -eu pipefail\n",
    "\n",
    "python3 $BASE_DIR/samosa-chaat/02_formatNN.py \\\n",
    "    0 1 2 3 4 5 6 7 8 9 10 \\ ## samples {PR27-PR34 plusM, PR12-31 minusM} \n",
    "    --referenceFile \"$TOP_DIR/preprocess/samosa/OS152.referenceFile.csv\" \\\n",
    "    --outputlocation \"$TOP_DIR/preprocess/samosa/\"\n",
    "\n"
   ]
  },
  {
   "cell_type": "markdown",
   "id": "241d0bd4",
   "metadata": {},
   "source": [
    "#### 2c.) Run network inference"
   ]
  },
  {
   "cell_type": "code",
   "execution_count": null,
   "id": "8ec6cf1e",
   "metadata": {},
   "outputs": [],
   "source": [
    "%%bash\n",
    "#!/usr/bin/env bash\n",
    "# 03_NN_inference.sh: bash script to run 03_NN_inference.py, and carry out NN inference on reads\n",
    "# Usage: ./03_NN_inference.sh *sample_ids*\n",
    "#\n",
    "## Inputs:\n",
    "#     --threshold: Threshold for determining bases as m6dA methylated (0.42)\n",
    "#     --modeldir: pathway to directory holding IPD models\n",
    "#     --referenceFile: SAMOSA-ChAAT reference file\n",
    "#     --outputlocation: Where to write output files\n",
    "#     Input Files are read from $outputlocation/processed/full/*_full_zmwinfo.pickle\n",
    "#     Input Files are read from $outputlocation/processed/forNN/*_forNN.npz\n",
    "#\n",
    "## Outputs:\n",
    "#     Output files are written to $outputlocation/processed/forHMM/\n",
    "#     *_forHMM_resid-*_piece*.pickle: Data frame containing inferred methylation probability using the provided thresold\n",
    "##                                    per adenine. Input for HMM.\n",
    "set -eu pipefail\n",
    "\n",
    "python3 $BASE_DIR/samosa-chaat/03_NN_inference.py \\\n",
    "    0 1 2 3 4 5 6 7 8 9 10 \\ ## samples {PR27-PR34 plusM, PR12-31 minusM}\n",
    "    --threshold 0.42 \\\n",
    "    --modeldir \"$BASE_DIR/samosa-chaat/models/\"\n",
    "    --referenceFile \"$TOP_DIR/preprocess/samosa/OS152.referenceFile.csv\" \\\n",
    "    --outputlocation \"$TOP_DIR/preprocess/samosa/\"\n"
   ]
  },
  {
   "cell_type": "markdown",
   "id": "c4c5352f",
   "metadata": {},
   "source": [
    "#### 2d.) Run HMM to predcit accessibility footprints"
   ]
  },
  {
   "cell_type": "code",
   "execution_count": null,
   "id": "064daa54",
   "metadata": {},
   "outputs": [],
   "source": [
    "%%bash\n",
    "#!/usr/bin/env bash\n",
    "# 04_HMM.sh: bash script to run 04_HMM.py, and carry out HMM accesbility footprint binarization using NN inferred methylation probabilities\n",
    "# Usage: ./04_HMM.sh *sample_ids*\n",
    "#\n",
    "## Inputs:\n",
    "#     --threshold: Threshold for determining bases as m6dA methylated (0.42)\n",
    "#     --threads: number of threads (15)\n",
    "#     --referenceFile: SAMOSA-ChAAT reference file\n",
    "#     --outputlocation: Where to write output files\n",
    "#     Input Files are read from $outputlocation/processed/forHMM/*_forHMM_resid-*_piece*.pickle\n",
    "#\n",
    "## Outputs:\n",
    "#     Output files are written to $outputlocation/processed/binarized/HMMout/\n",
    "#     *_NNsingle.pickle: Dictionary containing per-molecule binarized accessibility footprints. (ZMWIDs are keys)\n",
    "set -eu pipefail\n",
    "\n",
    "python3 $BASE_DIR/samosa-chaat/04_HMM.py \\\n",
    "    0 1 2 3 4 5 6 7 8 9 10 \\ ## samples {PR27-PR34 plusM, PR12-31 minusM}\n",
    "    --threshold 0.42 \\\n",
    "    --threads 15 \\\n",
    "    --referenceFile \"$TOP_DIR/preprocess/samosa/OS152.referenceFile.csv\" \\\n",
    "    --outputlocation \"$TOP_DIR/preprocess/samosa/\""
   ]
  },
  {
   "cell_type": "markdown",
   "id": "58fb887e",
   "metadata": {},
   "source": [
    "#### 2e.) Run post-analysis on accessible footprints to generate nucleosome calls"
   ]
  },
  {
   "cell_type": "code",
   "execution_count": null,
   "id": "258baff3",
   "metadata": {},
   "outputs": [],
   "source": [
    "%%bash\n",
    "#!/usr/bin/env bash\n",
    "# 05_postprocessing.sh: bash script to run 05_postprocessing.py, and call accessibility footprint size + nucleosome density\n",
    "# Usage: ./05_postprocessing.sh *sample_ids*\n",
    "#\n",
    "## Inputs:\n",
    "#     --referenceFile: SAMOSA-ChAAT reference file\n",
    "#     --outputlocation: Where to write output files\n",
    "#     Input Files are read from $outputlocation/processed/binarized/HMMout/*_NNsingle.pickle\n",
    "#     Input Files are read from $outputlocation/processed/full/*_full_zmwinfo.pickle\n",
    "#\n",
    "## Outputs:\n",
    "#     Output files are written to $outputlocation/processed/inaccessibleRegions\n",
    "#     *_inacRegions.csv: CSV file inidicating inaccessible regions and size of regions\n",
    "#\n",
    "#     Output files are written to $outputlocation/processed/density/\n",
    "#    *_density.csv: CSV file indicating nucleosome density\n",
    "set -eu pipefail\n",
    "\n",
    "python3 $BASE_DIR/samosa-chaat/05_postprocessing.py \\\n",
    "    0 1 2 3 4 5 6 7 \\ ## samples {PR27-PR34 plusM}\n",
    "    --referenceFile \"$TOP_DIR/preprocess/samosa/OS152.referenceFile.csv\" \\\n",
    "    --outputlocation \"$TOP_DIR/preprocess/samosa/\"\n",
    "    \n",
    "    "
   ]
  },
  {
   "cell_type": "markdown",
   "id": "50ade494",
   "metadata": {},
   "source": [
    "#### 2f.) Annotate BAM file with accessibility strings"
   ]
  },
  {
   "cell_type": "code",
   "execution_count": null,
   "id": "802aa3cd",
   "metadata": {},
   "outputs": [],
   "source": [
    "%%bash\n",
    "#!/usr/bin/env bash\n",
    "# 06_annotate_bams.sh: bash script to run 06_annotate_bams.py, and annotate reads with accessibility footprints using MM and ML tags\n",
    "# Usage: ./06_annotate_bams.sh *sample_ids*\n",
    "#\n",
    "## Inputs:\n",
    "#     --merged-bam: Path to merged bam file containing all ccs reads \n",
    "#     --referenceFile: SAMOSA-ChAAT reference file\n",
    "#     --outputlocation: Where to write output files\n",
    "#     Input Files are read from $outputlocation/processed/binarized/HMMout/*_NNsingle.pickle\n",
    "#\n",
    "## Outputs:\n",
    "#     Output files are written to $outputlocation/processed/annot/\n",
    "#     *_samosa.bam: BAM file where ML and MM tags represent accessibility profiles\n",
    "set -eu pipefail\n",
    "\n",
    "python3 $BASE_DIR/samosa-chaat/06_annotate_bams.py \\\n",
    "    0 1 2 3 4 5 6 7 \\ ## samples {PR27-PR34 plusM, PR12-31 minusM}\n",
    "    --merged-bam \"$TOP_DIR/preprocess/samosa/ccs/SAMOSA-Tag.subread.ccs.OS152_plusM.bam\"\n",
    "    --referenceFile \"$TOP_DIR/preprocess/samosa/OS152.referenceFile.csv\" \\\n",
    "    --outputlocation \"$TOP_DIR/preprocess/samosa/\"\n"
   ]
  },
  {
   "cell_type": "markdown",
   "id": "582e8a71",
   "metadata": {},
   "source": [
    "# Secondary Analyses "
   ]
  },
  {
   "cell_type": "markdown",
   "id": "7ac17ef1",
   "metadata": {},
   "source": [
    "#### 3a.) Compute autocorrelation per read "
   ]
  },
  {
   "cell_type": "code",
   "execution_count": null,
   "id": "ff7c5e17",
   "metadata": {},
   "outputs": [],
   "source": [
    "%%bash\n",
    "#!/usr/bin/env bash\n",
    "#\n",
    "# 01_compute_autocors_persample.sh: bash script to run 01_compute_autocors_persample.py, and compute autocorrelated accessibility profiles per molecule\n",
    "# Usage: ./01_compute_autocors_persample.sh *HMM pickle files*\n",
    "#     --project: Name of project being analyzed\n",
    "#     --output-dir: Directory to save results\n",
    "#\n",
    "## Outputs:\n",
    "#     output-dir/hmm_pickle.autocors.npy: Numpy array containing autocorrelation information per molecule\n",
    "#     output-dir/hmm_pickle.zmw_ids: text file listing ZMWIDs that were analyzed via autocorrelation\n",
    "\n",
    "$BASE_DIR/samosa_tag/01_compute_autocors_persample.py \\\n",
    "    \"$TOP_DIR/preprocess/samosa/binarized/HMMout/*plusM*NNsingle.pickle\"\n",
    "    --project OS152_plusM \\\n",
    "    --output-dir \"$TOP_DIR/analyses/OS152/\"\n",
    "    "
   ]
  },
  {
   "cell_type": "markdown",
   "id": "dcd5ae34",
   "metadata": {},
   "source": [
    "#### 3b.) Cluster autocorrelation patterns to determine fiber types"
   ]
  },
  {
   "cell_type": "code",
   "execution_count": null,
   "id": "9c5fbe70",
   "metadata": {},
   "outputs": [],
   "source": [
    "%%bash\n",
    "#!/usr/bin/env bash\n",
    "#\n",
    "# 02_cluster_autocorrelograms_tn5.sh: bash script to run 02_cluster_autocorrelograms_tn5.py, and cluser per-molecule autocorrelograms to determine fiber types\n",
    "# Usage: ./02_cluster_autocorrelograms_tn5.sh *HMM pickle files*\n",
    "#     --autocor-dir: Directory containing results from 01_compute_autocors_persample.py\n",
    "#     --project: Name of project being analyzed\n",
    "#     --output-dir: Directory to save results\n",
    "#\n",
    "## Outputs:\n",
    "#     output-dir/project_autocor_clusters.data: text file indicating fiber type cluster membership per read\n",
    "#     output-dir/project_autocor_averages.data: text file containing average autocorrelation profile per cluster\n",
    "#     output-dir/project_autocor_signal_averages.data: text file containing average accesibility profile per cluster\n",
    "\n",
    "$BASE_DIR/samosa_tag/02_cluster_autocorrelograms_tn5.py \\\n",
    "    \"$TOP_DIR/preprocess/samosa/binarized/HMMout/*plusM*pickle\"\n",
    "    --autocor-dir \"$TOP_DIR/analyses/OS152/\"\n",
    "    --project OS152_plusM \\\n",
    "    --output-dir \"$TOP_DIR/analyses/OS152/\"\n",
    "    \n",
    "    "
   ]
  },
  {
   "cell_type": "markdown",
   "id": "5899394c",
   "metadata": {},
   "source": [
    "#### 3c.) Examine fiber type enrichment at CTCF sites"
   ]
  },
  {
   "cell_type": "code",
   "execution_count": null,
   "id": "3ac738a3",
   "metadata": {},
   "outputs": [],
   "source": [
    "%%bash\n",
    "#!/usr/bin/env bash\n",
    "#\n",
    "# 03_samosa_feature_signal.sh: bash script to run 03_samosa_feature_signal.py, and determine fiber enrichment at U2OS CTCF sites\n",
    "# Usage: ./02_cluster_autocorrelograms_tn5.sh *HMM pickle files*\n",
    "#     --aligned-dir: Directory containing aligned SAMOSA-Tag reads\n",
    "#     --project: Name of project being analyzed\n",
    "#     --output-dir: Directory to save results\n",
    "#\n",
    "## Outputs:\n",
    "#     output-dir/project_CTCF_access_ctcf_final_include_hole.data: dataframe containing sites that overlap with reads\n",
    "#     output-dir/project_Ctcf_mols_750bp.npy: aggregated per-molecule accessibility information across all sites\n",
    "\n",
    "$BASE_DIR/samosa_tag/03_samosa_feature_signal.py \\\n",
    "    \"$TOP_DIR/preprocess/samosa/binarized/HMMout/*pickle\"\n",
    "    --aligned-dir \"$TOP_DIR/preprocess/align/\"\n",
    "    --project OS152_plusM \\\n",
    "    --output-dir \"$TOP_DIR/analyses/OS152/\""
   ]
  },
  {
   "cell_type": "markdown",
   "id": "d09320ca",
   "metadata": {},
   "source": [
    "#### 4a.) Extract 5mC methylation predictions at CpG sites generated by primrose"
   ]
  },
  {
   "cell_type": "code",
   "execution_count": null,
   "id": "c0e8f4d3",
   "metadata": {},
   "outputs": [],
   "source": [
    "%%bash\n",
    "#!/usr/bin/env bash\n",
    "# 05_cpg2pickle.sh: bash script to run 05_cpg2pickle.py, and extract primrose 5mC predictions per molecule from reads\n",
    "# Usage: ./05_cpg2pickle.sh *primrose aligned BAM*\n",
    "#     --project: Name of project being analyzed\n",
    "#     --output-dir: Directory to save results\n",
    "#\n",
    "## Outputs:\n",
    "#     output-dir/project_cpg_data.pickle: dictionary containing per-molecule 5mC methylation probability from all BAMs\n",
    "\n",
    "$BASE_DIR/samosa_tag/05_cpg2pickle.py \\\n",
    "    \"$TOP_DIR/preprocess/align/SAMOSA-Tag.subread.ccs.OS152_plusM.primrose.align.sorted.bam\"\n",
    "    --project OS152_plusM \\\n",
    "    --output-dir \"$TOP_DIR/analyses/OS152/\"\n",
    "    \n",
    "    \n",
    "$BASE_DIR/samosa_tag/05_cpg2pickle \\\n",
    "    \"$TOP_DIR/preprocess/align/SAMOSA-Tag.subread.ccs.OS152_minusM.primrose.align.sorted.bam\"\n",
    "    --project OS152_minusM \\\n",
    "    --output-dir \"$TOP_DIR/analyses/OS152/\"\n",
    "    "
   ]
  },
  {
   "cell_type": "markdown",
   "id": "96cce3d3",
   "metadata": {},
   "source": [
    "#### 4b.) Examine 5mC enrichment at CTCF sites"
   ]
  },
  {
   "cell_type": "code",
   "execution_count": null,
   "id": "8a1556f6",
   "metadata": {},
   "outputs": [],
   "source": [
    "%%bash\n",
    "#!/usr/bin/env bash\n",
    "#\n",
    "# 06_primrose_samosa_ctcf_integration_OS.sh: bash script to run 06_primrose_samosa_ctcf_integration_OS.py, and determine 5mC methylation enrichment at U2OS CTCF sites\n",
    "# Usage: ./06_primrose_samosa_ctcf_integration_OS.sh *HMM pickle files*\n",
    "#     --cpg-pickle: Pickle file produced by 05_cpg2pickle.py\n",
    "#     --site-list: List of CTCF sites\n",
    "#     --project: Name of project being analyzed\n",
    "#     --output-dir: Directory to save results\n",
    "#\n",
    "## Outputs:\n",
    "#     output-dir/project_CTCF_meth_ctcf_final.data: dataframe containing sites that overlap with reads\n",
    "#     output-dir/project_Ctcf_methmols_50bp.npy: aggregated per-molecule 5mC information across all sites\n",
    "\n",
    "$BASE_DIR/samosa_tag/06_primrose_samosa_ctcf_integration_OS.py \\\n",
    "    --cpg-pickle \"$TOP_DIR/analyses/OS152/OS152_plusM_cpg_data.pickle\" \\\n",
    "    --site-list U2OS_total_ZMWs.5kb.zmws\n",
    "    --project OS152_plusM \\\n",
    "    --output-dir \"$TOP_DIR/analyses/OS152/\"\n",
    "    "
   ]
  },
  {
   "cell_type": "markdown",
   "id": "f13200cd",
   "metadata": {},
   "source": [
    "#### 5a.) Integrate 5mC signal at CpGs, with SAMOSA signal per molecule"
   ]
  },
  {
   "cell_type": "code",
   "execution_count": null,
   "id": "29be06a6",
   "metadata": {},
   "outputs": [],
   "source": [
    "%%bash\n",
    "#!/usr/bin/env bash\n",
    "#\n",
    "# 07_compare_cpg_samosa_OS_data.sh: bash script to run 07_compare_cpg_samosa_OS_data.py, and link 5mC / CpG information and SAMOSA accessibility profiles per read\n",
    "# Usage: ./07_compare_cpg_samosa_OS_data.sh\n",
    "#     --cpg-pickle: Pickle file produced by 05_cpg2pickle.py\n",
    "#     --cluster-labels: Fiber type cluster membership produced by 02_cluster_autocorrelograms_tn5\n",
    "#     --project: Name of project being analyzed\n",
    "#     --output-dir: Directory to save results\n",
    "#\n",
    "## Outputs:\n",
    "#     output-dir/project_cluster_cpg.dataout.filtered: text file containing per-molecule cluster membership, cpG content, and CpG methylation prediction\n",
    "\n",
    "$BASE_DIR/samosa_tag/07_compare_cpg_samosa_OS_data.py \\\n",
    "    --cpg-pickle \"$TOP_DIR/analyses/OS152/OS152_plusM_cpg_data.pickle\" \\\n",
    "    --cluster-labels \"$TOP_DIR/analyses/OS152/OS152_plusM_autocor_clusters.data\"\n",
    "    --project OS152_plusM \\\n",
    "    --output-dir \"$TOP_DIR/analyses/OS152/\"\n",
    "    "
   ]
  },
  {
   "cell_type": "markdown",
   "id": "d86fee9f",
   "metadata": {},
   "source": [
    "#### 5b.) Test for enrichment of fiber types stratified by 5mC methylation and CpG count, per molecule"
   ]
  },
  {
   "cell_type": "code",
   "execution_count": null,
   "id": "c21659b6",
   "metadata": {},
   "outputs": [],
   "source": [
    "%%bash\n",
    "#!/usr/bin/env bash\n",
    "#\n",
    "# 08_fishers_methylation_OS_SMRT_tag.sh: bash script to run 08_fishers_methylation_OS_SMRT_tag.py, and test for fiber type enrichment in differentially methylated regions\n",
    "# Usage: ./08_fishers_methylation_OS_SMRT_tag.sh\n",
    "#     --dataout-filtered: text file produced by 07_compare_cpg_samosa_OS_data.py\n",
    "#     --project: Name of project being analyzed\n",
    "#     --output-dir: Directory to save results\n",
    "#\n",
    "## Outputs:\n",
    "#     output-dir/project_fishers.data: Fisher's exact test results for enrichment across all data.\n",
    "\n",
    "$BASE_DIR/samosa_tag/08_fishers_methylation_OS_SMRT_tag.py \\\n",
    "    --dataout-filtered \"$TOP_DIR/analyses/OS152/OS152_plusM_cluster_cpg.dataout.filtered\" \\\n",
    "    --project OS152_plusM \\\n",
    "    --output-dir \"$TOP_DIR/analyses/OS152/\"\n",
    "    \n",
    "\n",
    "    \n",
    "    "
   ]
  },
  {
   "cell_type": "markdown",
   "id": "aafea92c",
   "metadata": {},
   "source": [
    "#### 5c) Test for enrichment of fiber types stratified by 5mC methylation and CpG count, per molecule, per replicate\n"
   ]
  },
  {
   "cell_type": "code",
   "execution_count": null,
   "id": "4f2d94be",
   "metadata": {},
   "outputs": [],
   "source": [
    "%%bash\n",
    "#!/usr/bin/env bash\n",
    "#\n",
    "# 08_fishers_methylation_OS_SMRT_tag.sh: bash script to run 08_fishers_methylation_OS_SMRT_tag.py, and test for fiber type enrichment in differentially methylated regions, stratified by replicate\n",
    "# Usage: ./08_fishers_methylation_OS_SMRT_tag.sh\n",
    "#     --dataout-filtered: text file produced by 07_compare_cpg_samosa_OS_data.py\n",
    "#     --cluster-labels: Fiber type cluster membership produced by 02_cluster_autocorrelograms_tn5\n",
    "#     --project: Name of project being analyzed\n",
    "#     --output-dir: Directory to save results\n",
    "#\n",
    "## Outputs:\n",
    "#     output-dir/project_fishers_by_rep.data: Fisher's exact test results for enrichment, stratified by replicate\n",
    "\n",
    "$BASE_DIR/samosa_tag/08b_reps_samosa_fishers_OS.py \\\n",
    "    --dataout-filtered \"$TOP_DIR/analyses/OS152/OS152_plusM_cluster_cpg.dataout.filtered\" \\\n",
    "    --cluster-labels \"$TOP_DIR/analyses/OS152/OS152_plusM_autocor_clusters.data\" \\\n",
    "    --project OS152_plusM \\\n",
    "    --output-dir \"$TOP_DIR/analyses/OS152/\""
   ]
  },
  {
   "cell_type": "markdown",
   "id": "3827ecc4",
   "metadata": {},
   "source": [
    "#### 6) Examine enrichment of tagmented molecule ends in TSSs"
   ]
  },
  {
   "cell_type": "code",
   "execution_count": null,
   "id": "3a1abfec",
   "metadata": {},
   "outputs": [],
   "source": [
    "%%bash\n",
    "#\n",
    "# 09_tss2endmatrix_pb.sh: bash script to run 09_tss2endmatrix_pb.py, and examine enrichment of Tn5-ends in TSSs\n",
    "# Usage: ./09_tss2endmatrix_pb.sh *SAMOSA-Tag aligned.sorted.bam files*\n",
    "#     --genomic-sites: A TSV containing TSS sites to examine\n",
    "#     --genomic-sites-name: Name to designate sites examined\n",
    "#     --valid-chroms: comma-separted string of valid chromosomes to examine (ignore chrM)\n",
    "#     --project: Name of project being analyzed\n",
    "#     --output-dir: Directory to save results\n",
    "#\n",
    "## Outputs:\n",
    "#     output-dir/genomic-sites-name_mat.ends.BAMfile: counts of read ends 2500bp up/downstream across all genomic sites \n",
    "\n",
    "$BASE_DIR/samosa_tag/09_tss2endmatrix_pb.py \\\n",
    "    \"$TOP_DIR/preprocess/align/SAMOSA-Tag*align.sorted.bam\" \\\n",
    "    --genomic-sites hg38_TSS_sites.tsv \\\n",
    "    --genomic-sites-name TSS \\\n",
    "    --valid-chroms chr1,chr2,chr3,chr4,chr5,chr6,chr7,chr8,chr9,ch10,chr11,chr12,chr13,chr14,chr15,chr16,chr17,chr18,chr19,chr20,chr21,chr22,chrX,chrY\n",
    "    --project OS152 \\\n",
    "    --output-dir smrt_tag/analyses/OS152/tss/\n",
    "    \n"
   ]
  }
 ],
 "metadata": {
  "kernelspec": {
   "display_name": "Python 3 (ipykernel)",
   "language": "python",
   "name": "python3"
  },
  "language_info": {
   "codemirror_mode": {
    "name": "ipython",
    "version": 3
   },
   "file_extension": ".py",
   "mimetype": "text/x-python",
   "name": "python",
   "nbconvert_exporter": "python",
   "pygments_lexer": "ipython3",
   "version": "3.9.13"
  }
 },
 "nbformat": 4,
 "nbformat_minor": 5
}
